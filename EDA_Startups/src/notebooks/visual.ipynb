{
 "cells": [
  {
   "cell_type": "code",
   "execution_count": null,
   "metadata": {},
   "outputs": [],
   "source": [
    "#Heatmap\n",
    "\n",
    "plt.figure(figsize = (25, 18))\n",
    "sns.heatmap(df.corr(), annot = True, cmap = 'viridis', linewidth = 0.5, fmt = '.1f')"
   ]
  },
  {
   "cell_type": "code",
   "execution_count": null,
   "metadata": {},
   "outputs": [],
   "source": [
    "# dropping temp columns \n",
    "data = data.drop(columns=['founded_at', 'first_funding_at', 'last_funding_at', \n",
    "                          'first_funding_at_temp', 'last_funding_at_temp', \n",
    "                          'founded_at_temp'], axis=1).reset_index(drop=True)\n",
    "\n",
    "# creating csv file to work from\n",
    "data.to_csv('data/final_working_data.csv')"
   ]
  },
  {
   "cell_type": "code",
   "execution_count": null,
   "metadata": {},
   "outputs": [],
   "source": [
    "#diagrama de barra combinado for status y funding round\n",
    "plt.figure(figsize=(12, 6))\n",
    "sns.countplot(data=df, x='funding_rounds', hue='status')"
   ]
  },
  {
   "cell_type": "code",
   "execution_count": null,
   "metadata": {},
   "outputs": [],
   "source": [
    "#OK FUNCIONA\n",
    "#aplicar al df = filtro\n",
    "sns.boxplot(x='exit_status', y='funding_log', data=filtro)\n",
    "plt.title('Distribución de Total Funding por Exit_status')\n",
    "plt.xticks(rotation=90)\n",
    "plt.show()"
   ]
  },
  {
   "cell_type": "code",
   "execution_count": null,
   "metadata": {},
   "outputs": [
    {
     "ename": "NameError",
     "evalue": "name 'df' is not defined",
     "output_type": "error",
     "traceback": [
      "\u001b[1;31m---------------------------------------------------------------------------\u001b[0m",
      "\u001b[1;31mNameError\u001b[0m                                 Traceback (most recent call last)",
      "Cell \u001b[1;32mIn[2], line 2\u001b[0m\n\u001b[0;32m      1\u001b[0m \u001b[38;5;66;03m#Contar las principales categorías en 'sector'\u001b[39;00m\n\u001b[1;32m----> 2\u001b[0m category_counts \u001b[38;5;241m=\u001b[39m \u001b[43mdf\u001b[49m[\u001b[38;5;124m'\u001b[39m\u001b[38;5;124msector\u001b[39m\u001b[38;5;124m'\u001b[39m]\u001b[38;5;241m.\u001b[39mvalue_counts()\u001b[38;5;241m.\u001b[39mhead(\u001b[38;5;241m10\u001b[39m)\n\u001b[0;32m      3\u001b[0m main_categories \u001b[38;5;241m=\u001b[39m category_counts\u001b[38;5;241m.\u001b[39mindex\n\u001b[0;32m      4\u001b[0m region_counts \u001b[38;5;241m=\u001b[39m df[\u001b[38;5;124m'\u001b[39m\u001b[38;5;124mregion_city\u001b[39m\u001b[38;5;124m'\u001b[39m]\u001b[38;5;241m.\u001b[39mvalue_counts()\u001b[38;5;241m.\u001b[39mhead(\u001b[38;5;241m10\u001b[39m)\n",
      "\u001b[1;31mNameError\u001b[0m: name 'df' is not defined"
     ]
    }
   ],
   "source": []
  },
  {
   "cell_type": "code",
   "execution_count": null,
   "metadata": {},
   "outputs": [
    {
     "ename": "NameError",
     "evalue": "name 'df' is not defined",
     "output_type": "error",
     "traceback": [
      "\u001b[1;31m---------------------------------------------------------------------------\u001b[0m",
      "\u001b[1;31mNameError\u001b[0m                                 Traceback (most recent call last)",
      "Cell \u001b[1;32mIn[1], line 2\u001b[0m\n\u001b[0;32m      1\u001b[0m \u001b[38;5;66;03m# Contar las principales categorías en 'sector'\u001b[39;00m\n\u001b[1;32m----> 2\u001b[0m category_counts \u001b[38;5;241m=\u001b[39m \u001b[43mdf\u001b[49m[\u001b[38;5;124m'\u001b[39m\u001b[38;5;124msector\u001b[39m\u001b[38;5;124m'\u001b[39m]\u001b[38;5;241m.\u001b[39mvalue_counts()\u001b[38;5;241m.\u001b[39mhead(\u001b[38;5;241m10\u001b[39m)\n\u001b[0;32m      3\u001b[0m main_categories \u001b[38;5;241m=\u001b[39m category_counts\u001b[38;5;241m.\u001b[39mindex\n\u001b[0;32m      4\u001b[0m exit_fail_status \u001b[38;5;241m=\u001b[39m [\u001b[38;5;124m\"\u001b[39m\u001b[38;5;124mipo\u001b[39m\u001b[38;5;124m\"\u001b[39m, \u001b[38;5;124m\"\u001b[39m\u001b[38;5;124macquired\u001b[39m\u001b[38;5;124m\"\u001b[39m, \u001b[38;5;124m\"\u001b[39m\u001b[38;5;124mclosed\u001b[39m\u001b[38;5;124m\"\u001b[39m]\n",
      "\u001b[1;31mNameError\u001b[0m: name 'df' is not defined"
     ]
    }
   ],
   "source": [
    "\n",
    "\n",
    "# Contar las principales categorías en 'sector'\n",
    "category_counts = df['sector'].value_counts().head(10)\n",
    "main_categories = category_counts.index\n",
    "region_counts = df['region_city'].value_counts().head(10)\n",
    "main_region = region_counts.index\n",
    "exit_fail_status = [\"ipo\", \"acquired\", \"closed\"]\n",
    "\n",
    "# Filtrar el dataset para incluir solo las principales categorías y quitando las operating\n",
    "filtered_sector = df[df['sector'].isin(main_categories)]\n",
    "filtered_region = df[df['region_city'].isin(main_region)]\n",
    "filter_exit = filtered_sector[filtered_sector['exit_status'].isin([\"exit\", \"closed\"])]\n",
    "\n",
    "# Crear un gráfico de barras agrupado para 'status' y 'category_list'\n",
    "plt.figure(figsize=(12, 6))\n",
    "sns.countplot(data=filter_exit, y='country', hue='exit_status')\n",
    "\n",
    "# Personalizar el gráfico\n",
    "plt.title('Distribución de Exit_Status por Principales Categorías', fontsize=16)\n",
    "plt.xlabel('Cantidad', fontsize=12)\n",
    "plt.ylabel('Categoría', fontsize=12)\n",
    "plt.legend(title='Status', loc='center right')\n",
    "plt.tight_layout()\n",
    "\n",
    "# Mostrar el gráfico\n",
    "plt.show()"
   ]
  },
  {
   "cell_type": "code",
   "execution_count": null,
   "metadata": {},
   "outputs": [],
   "source": [
    "series_A = funding_df[funding_df['Series_A_Amount'] != ''][['Names', 'Series_A_Amount', 'Market']]\n",
    "series_A.columns = ['Names', 'Series_Amount', 'Market']\n",
    "series_A['Series_Type'] = pd.Series('Series_A', index=series_A.index)"
   ]
  }
 ],
 "metadata": {
  "kernelspec": {
   "display_name": "Python 3",
   "language": "python",
   "name": "python3"
  },
  "language_info": {
   "codemirror_mode": {
    "name": "ipython",
    "version": 3
   },
   "file_extension": ".py",
   "mimetype": "text/x-python",
   "name": "python",
   "nbconvert_exporter": "python",
   "pygments_lexer": "ipython3",
   "version": "3.13.0"
  }
 },
 "nbformat": 4,
 "nbformat_minor": 2
}
